{
 "cells": [
  {
   "cell_type": "markdown",
   "metadata": {},
   "source": [
    "## Python ile Veri Analizi\n",
    "\n",
    "Bu süreçte ele alınacak konular:\n",
    "\n",
    "- NumPy (Matematik)\n",
    "- Pandas (Veri Analizi)\n",
    "- Veri Görselleştirme: Matplotlib & Seaborn \n",
    "- Gelişmiş Fonksiyonel Keşifci Veri Analizi"
   ]
  },
  {
   "cell_type": "code",
   "execution_count": 2,
   "metadata": {},
   "outputs": [
    {
     "name": "stdout",
     "output_type": "stream",
     "text": [
      "[2, 6, 12, 20]\n"
     ]
    }
   ],
   "source": [
    "import numpy as np\n",
    "\n",
    "a = [1, 2, 3, 4]\n",
    "b = [2, 3, 4 ,5]\n",
    "ab = []\n",
    "\n",
    "for i in range (0, len(a)):\n",
    "    ab.append(a[i]*b[i])\n",
    "print(ab)\n",
    "\n"
   ]
  },
  {
   "cell_type": "code",
   "execution_count": 7,
   "metadata": {},
   "outputs": [
    {
     "name": "stdout",
     "output_type": "stream",
     "text": [
      "[ 2  6 12 20]\n"
     ]
    },
    {
     "data": {
      "text/plain": [
       "array([[ 7.41281128,  4.29960715,  4.81978887, 11.12936353],\n",
       "       [ 6.22642428, 10.975536  ,  7.80510326,  8.22965112],\n",
       "       [ 5.53334952, 11.35421174,  8.23019735,  8.14676513]])"
      ]
     },
     "execution_count": 7,
     "metadata": {},
     "output_type": "execute_result"
    }
   ],
   "source": [
    "a = np.array([1, 2, 3, 4])\n",
    "b = np.array([2, 3, 4 ,5])\n",
    "\n",
    "print(a*b)\n",
    "\n",
    "np.zeros(10, dtype = int )\n",
    "np.random.randint(1,10,10)\n",
    "np.random.normal(10, 4 ,(3, 4))"
   ]
  },
  {
   "cell_type": "code",
   "execution_count": 12,
   "metadata": {},
   "outputs": [
    {
     "name": "stdout",
     "output_type": "stream",
     "text": [
      "[7 9 6 8 3]\n",
      "1\n",
      "(5,)\n",
      "5\n",
      "int32\n"
     ]
    }
   ],
   "source": [
    "x = np.random.randint(10, size = 5)\n",
    "print(x)\n",
    "\n",
    "# ndim  --> boyut sayısı\n",
    "# shape --> boyut bilgisi\n",
    "# size  --> toplam eleman sayısı\n",
    "# dtype --> array veri tipi\n",
    "\n",
    "print(x.ndim)\n",
    "print(x.shape)\n",
    "print(x.size)\n",
    "print(x.dtype)"
   ]
  },
  {
   "cell_type": "code",
   "execution_count": 27,
   "metadata": {},
   "outputs": [
    {
     "name": "stdout",
     "output_type": "stream",
     "text": [
      "[6 0 1 6 9 9 1 7 3]\n",
      "------\n",
      "[[6 0 1]\n",
      " [6 9 9]\n",
      " [1 7 3]]\n",
      "------\n",
      "[[6 1 9]\n",
      " [9 0 8]\n",
      " [9 3 1]]\n"
     ]
    }
   ],
   "source": [
    "y = np.random.randint(10, size = 9)\n",
    "print(y)\n",
    "\n",
    "print(\"------\")\n",
    "\n",
    "y = y.reshape(3, 3)\n",
    "print(y)\n",
    "\n",
    "print(\"------\")\n",
    "\n",
    "z = np.random.randint(10, size = 9).reshape(3,3)\n",
    "print(z)"
   ]
  },
  {
   "cell_type": "code",
   "execution_count": 38,
   "metadata": {},
   "outputs": [
    {
     "name": "stdout",
     "output_type": "stream",
     "text": [
      "[ 0  6 12 18 24 30 36]\n",
      "[ 6 12 18 36]\n",
      "[ True  True  True False False False False]\n",
      "[ 0  6 12]\n"
     ]
    }
   ],
   "source": [
    "v = np.arange(0,42,6)  # e  kadar\n",
    "\n",
    "print(v)\n",
    "\n",
    "# Fancy Index\n",
    "\n",
    "vvv = [1, 2, 3, 6]\n",
    "vv = v[vvv]\n",
    "\n",
    "print(vv)\n",
    "\n",
    "print(v < 13)\n",
    "\n",
    "print(v[v < 13])"
   ]
  },
  {
   "cell_type": "code",
   "execution_count": 40,
   "metadata": {},
   "outputs": [
    {
     "name": "stdout",
     "output_type": "stream",
     "text": [
      "[1. 3.]\n"
     ]
    }
   ],
   "source": [
    "# 5x + 3y = 14\n",
    "# 3x + y = 6\n",
    "\n",
    "a = np.array([[5,3],[3,1]])\n",
    "b = np.array([14, 6])\n",
    "\n",
    "print(np.linalg.solve(a, b))"
   ]
  },
  {
   "cell_type": "code",
   "execution_count": 42,
   "metadata": {},
   "outputs": [
    {
     "name": "stdout",
     "output_type": "stream",
     "text": [
      "1. boyuttaki 2.eleman:  2\n"
     ]
    }
   ],
   "source": [
    "arr = np.array([[1,2,3,4,5], [6,7,8,9,10]])\n",
    "print('1. boyuttaki 2.eleman: ', arr[0, 1])"
   ]
  },
  {
   "cell_type": "code",
   "execution_count": 43,
   "metadata": {},
   "outputs": [
    {
     "name": "stdout",
     "output_type": "stream",
     "text": [
      "[5 6]\n"
     ]
    }
   ],
   "source": [
    "arr = np.array([1, 2, 3, 4, 5, 6, 7])\n",
    "\n",
    "print(arr[-3:-1])  "
   ]
  },
  {
   "cell_type": "code",
   "execution_count": 44,
   "metadata": {},
   "outputs": [
    {
     "name": "stdout",
     "output_type": "stream",
     "text": [
      "[2 4 6]\n"
     ]
    }
   ],
   "source": [
    "array = np.array([1, 2, 3, 4, 5, 6, 7])\n",
    "\n",
    "filter_array = array % 2 == 0\n",
    "\n",
    "new_array = array[filter_array]\n",
    "\n",
    "print(new_array)"
   ]
  },
  {
   "cell_type": "markdown",
   "metadata": {},
   "source": [
    "### Pandas"
   ]
  },
  {
   "cell_type": "code",
   "execution_count": 53,
   "metadata": {},
   "outputs": [
    {
     "name": "stdout",
     "output_type": "stream",
     "text": [
      "0    13\n",
      "1    19\n",
      "2    23\n",
      "3    20\n",
      "4    19\n",
      "dtype: int32\n",
      "<class 'pandas.core.series.Series'> RangeIndex(start=0, stop=5, step=1) 1 5 int32\n",
      "[13 19 23 20 19]\n",
      "0    13\n",
      "1    19\n",
      "2    23\n",
      "dtype: int32\n",
      "2    23\n",
      "3    20\n",
      "4    19\n",
      "dtype: int32\n"
     ]
    }
   ],
   "source": [
    "import pandas as pd\n",
    "\n",
    "d = pd.Series(np.random.randint(1,50, size = 5))\n",
    "\n",
    "print(d)\n",
    "print(type(d), d.index, d.ndim, d.size, d.dtype)\n",
    "print(d.values)\n",
    "print(d.head(3))\n",
    "print(d.tail(3))"
   ]
  },
  {
   "cell_type": "code",
   "execution_count": 57,
   "metadata": {},
   "outputs": [
    {
     "name": "stdout",
     "output_type": "stream",
     "text": [
      "                         Transaction_ID                           Customer_ID  \\\n",
      "0  702bdd9b-9c93-41e3-9dbb-a849b2422080  119dca0b-8554-4b2d-9bec-e964eaf6af97   \n",
      "1  2e64c346-36bc-4acf-bc2b-8b0fdf46abc5  299df086-26c4-4708-b6d7-fcaeceb14637   \n",
      "2  29ad1278-70ce-421f-8d81-23816b39f4ac  dfa3d24d-b935-49a5-aa1d-7d57a44d8773   \n",
      "\n",
      "  Transaction_Date Transaction_Time  Customer_Age Customer_Loyalty_Tier  \\\n",
      "0       2025-07-27         04:04:15          56.0                Silver   \n",
      "1       2025-03-14         20:23:23          46.0              Platinum   \n",
      "2       2025-02-20         12:36:02          32.0                Silver   \n",
      "\n",
      "        Location           Store_ID       Product_SKU Product_Category  \\\n",
      "0  San Francisco        FLAGSHIP-LA   NEBULA-SERUM-07        Concealer   \n",
      "1         Zurich  BOUTIQUE-SHANGHAI  STELLAR-FOUND-03         Lipstick   \n",
      "2          Milan        POPUP-TOKYO    SOLAR-BLUSH-04          Mascara   \n",
      "\n",
      "   Purchase_Amount  Payment_Method Device_Type      IP_Address  Fraud_Flag  \\\n",
      "0           158.24  Mobile Payment     Desktop  239.249.58.237           0   \n",
      "1            86.03     Credit Card      Tablet    84.49.227.90           0   \n",
      "2           255.69       Gift Card     Desktop    79.207.35.55           0   \n",
      "\n",
      "   Footfall_Count  \n",
      "0             333  \n",
      "1             406  \n",
      "2              96  \n"
     ]
    }
   ],
   "source": [
    "# Pandas ile veri okuma\n",
    "\n",
    "df = pd.read_excel(\"luxury_cosmetics_fraud_analysis_2025.xlsx\")\n",
    "print(df.head(3))"
   ]
  }
 ],
 "metadata": {
  "kernelspec": {
   "display_name": "Python 3",
   "language": "python",
   "name": "python3"
  },
  "language_info": {
   "codemirror_mode": {
    "name": "ipython",
    "version": 3
   },
   "file_extension": ".py",
   "mimetype": "text/x-python",
   "name": "python",
   "nbconvert_exporter": "python",
   "pygments_lexer": "ipython3",
   "version": "3.13.2"
  }
 },
 "nbformat": 4,
 "nbformat_minor": 2
}
