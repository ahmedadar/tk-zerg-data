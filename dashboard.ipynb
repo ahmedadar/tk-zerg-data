{
 "cells": [
  {
   "cell_type": "markdown",
   "metadata": {},
   "source": [
    "## **Dashboard Testleri**\n",
    "\n",
    "Verileri \"pandas\" kütüphanesini kullanarak işlerken, \"plotly\" kütüphanesi ile işlediğimiz verileri görselleştireceğiz."
   ]
  },
  {
   "cell_type": "code",
   "execution_count": 1,
   "metadata": {},
   "outputs": [],
   "source": [
    "import pandas as pd\n",
    "import plotly.express as px\n"
   ]
  },
  {
   "cell_type": "markdown",
   "metadata": {},
   "source": [
    "### **Excel'den Veri Okumak**\n",
    "\n",
    "Excel'den veri okumak ve işlemek için pandas kütüphanesini kullanmamız gerekecek."
   ]
  },
  {
   "cell_type": "code",
   "execution_count": 2,
   "metadata": {},
   "outputs": [],
   "source": [
    "try:\n",
    "    df_goals = pd.read_excel(\"data.xlsx\")\n",
    "except FileNotFoundError:\n",
    "    print(\"Hata: Excel dosyası bulunamadı\")"
   ]
  },
  {
   "cell_type": "markdown",
   "metadata": {},
   "source": [
    "### **Veri İşleme ve Agregasyon**\n",
    "\n",
    "Pie Grafiği için Takım Bazlı Toplam Golleri Hesaplama"
   ]
  },
  {
   "cell_type": "code",
   "execution_count": null,
   "metadata": {},
   "outputs": [
    {
     "name": "stdout",
     "output_type": "stream",
     "text": [
      "               Team  Goals\n",
      "0   Adana Demirspor      4\n",
      "1        Ankaragücü      4\n",
      "2        Başakşehir      5\n",
      "3          Beşiktaş      5\n",
      "4        Fenerbahçe      7\n",
      "5       Galatasaray      6\n",
      "6         Kasımpaşa      4\n",
      "7       Kayserispor      5\n",
      "8        Pendikspor      3\n",
      "9          Rizespor      3\n",
      "10        Sivasspor      5\n",
      "11      Trabzonspor      6\n",
      "               Team  Total Goals\n",
      "0   Adana Demirspor            4\n",
      "1        Ankaragücü            4\n",
      "2        Başakşehir            5\n",
      "3          Beşiktaş            5\n",
      "4        Fenerbahçe            7\n",
      "5       Galatasaray            6\n",
      "6         Kasımpaşa            4\n",
      "7       Kayserispor            5\n",
      "8        Pendikspor            3\n",
      "9          Rizespor            3\n",
      "10        Sivasspor            5\n",
      "11      Trabzonspor            6\n"
     ]
    }
   ],
   "source": [
    "# Takım bazlı groupby yapıldı\n",
    "# Goal sütununda bulunan verileri grup içinde toplandı \n",
    "# index verisi resetlendi\n",
    "df_total_goals = df_goals.groupby(\"Team\")[\"Goals\"].sum().reset_index()\n",
    "print(df_total_goals)\n",
    "\n",
    "# Goals olan sütun ismi Total Goals olarak günellendi\n",
    "df_total_goals.rename(columns={\"Goals\": \"Total Goals\"}, inplace = True)\n",
    "print(df_total_goals)"
   ]
  },
  {
   "cell_type": "markdown",
   "metadata": {},
   "source": [
    "### **İnteraktif Hover Metni Oluşturma**"
   ]
  },
  {
   "cell_type": "code",
   "execution_count": 9,
   "metadata": {},
   "outputs": [],
   "source": [
    "# Belirtilen takımın tüm oyuncularını ve gollerini satır satır yazacak.\n",
    "\n",
    "def create_hover_text(team_name):\n",
    "\n",
    "    # Ana veri setinden sadece ilgili takım filtrelenecek\n",
    "    team_data = df_goals[df_goals[\"Team\"] == team_name]\n",
    "    text = \"\"\n",
    "\n",
    "    # Filtrelenen her satır (Oyuncu) için bilgileri ekle\n",
    "    for _, row in team_data.iterrows():\n",
    "        text += f\"{row[\"Player\"]}: {[\"Row\"]} gol\\n\"\n",
    "    \n",
    "    return text.strip() # Baştaki/sondaki boşlukları kaldırır\n",
    "\n",
    "\n"
   ]
  },
  {
   "cell_type": "markdown",
   "metadata": {},
   "source": [
    "### **Oluşturulan Hover Metnini ANa DataFrame'e Ekleme**"
   ]
  },
  {
   "cell_type": "code",
   "execution_count": 10,
   "metadata": {},
   "outputs": [],
   "source": [
    "df_total_goals[\"Hover_Text\"] = df_total_goals[\"Team\"].apply(create_hover_text)"
   ]
  },
  {
   "cell_type": "markdown",
   "metadata": {},
   "source": [
    "### **Plotly ile Veri Görselleştirme**"
   ]
  },
  {
   "cell_type": "code",
   "execution_count": 15,
   "metadata": {},
   "outputs": [],
   "source": [
    "fig = px.pie(\n",
    "    df_total_goals,\n",
    "    values=\"Total Goals\", # Pasta dlimlerinin büyüklüğü (Toplam Gol)\n",
    "    names=\"Team\", # Dilimlerin etiketleri (Takım Adı)\n",
    "    title=\"Türkiye Süper Ligi - 15.Hafta Takım Bazlı Gol Dağılımı (Fake Data)\",\n",
    "    hole=0.3 # Donut grafiği yapmak için\n",
    ")"
   ]
  },
  {
   "cell_type": "markdown",
   "metadata": {},
   "source": [
    "### **Custom Hover Template Ayarları**"
   ]
  },
  {
   "cell_type": "code",
   "execution_count": null,
   "metadata": {},
   "outputs": [],
   "source": [
    "# Bu adım, interaktifliği sağlayacak\n",
    "fig.update_traces(\n",
    "    # \"customdata\" ile \"Hover_Text\" sütununu grafiğin her dilimine gizlice ekliyoruz.\n",
    "    customdata = df_total_goals[[\"Hover_Text\"]],\n",
    "\n",
    "    # \"hovertemplate\" ile hover anında ne görünecğeini HTML ve Plotly değişkenleriyle belirliyoruz.\n",
    "    hovertemlate = \"<b>%{label}</b><br><br>\" + # Takımın Adı (Kalın)\n",
    "    \"Toplam Gol: %{value}<br>\" + # Takımın Toplam Golü\n",
    "    \"Oyuncu Detayları:<br>\" +\n",
    "    # %{customdata[0]} gizlediğimiz \"Hover_Text\" bilgisini getirir.\n",
    "    # <pre> etiketi, metnin içindeki gizli satır atlamaları (\\n) korumasını sağlar.\n",
    "    \"<pre>%{customdata[0]}</pre>\" +\n",
    "    \"<extra>\"\n",
    ")"
   ]
  }
 ],
 "metadata": {
  "kernelspec": {
   "display_name": "Python 3",
   "language": "python",
   "name": "python3"
  },
  "language_info": {
   "codemirror_mode": {
    "name": "ipython",
    "version": 3
   },
   "file_extension": ".py",
   "mimetype": "text/x-python",
   "name": "python",
   "nbconvert_exporter": "python",
   "pygments_lexer": "ipython3",
   "version": "3.13.2"
  }
 },
 "nbformat": 4,
 "nbformat_minor": 2
}
