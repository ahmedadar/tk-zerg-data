{
 "cells": [
  {
   "cell_type": "markdown",
   "metadata": {},
   "source": [
    "## Python Öğrenim Defteri\n",
    "Bu not defteri Python yazılım dilinin temellerini öğrenmek ve deneyimlemek için hazırlanmıştır."
   ]
  },
  {
   "cell_type": "code",
   "execution_count": 7,
   "metadata": {},
   "outputs": [
    {
     "name": "stdout",
     "output_type": "stream",
     "text": [
      "X değişkenin türü: <class 'int'>'dür ve değeri: 9'dir.\n",
      "Y değişkenin türü: <class 'str'>'dür ve değeri: 9'dir.\n",
      "Z değişkenin türü: <class 'str'>'dür ve değeri: Bu bir Python not defteridir.'dir.\n",
      "<class 'int'>\n"
     ]
    }
   ],
   "source": [
    "x = 9\n",
    "y = '9'\n",
    "z = 'Bu bir Python not defteridir.'\n",
    "\n",
    "print(\"X değişkenin türü: \"+str(type(x))+\"'dür ve değeri: \"+str(x)+\"'dir.\")\n",
    "print(\"Y değişkenin türü: \"+str(type(y))+\"'dür ve değeri: \"+str(y)+\"'dir.\")\n",
    "print(\"Z değişkenin türü: \"+str(type(z))+\"'dür ve değeri: \"+z+\"'dir.\")\n",
    "# print(\"Z değişkenin türü: \"+int(type(z))+\"'dür ve değeri: \"+z+\"'dir.\")\n",
    "print(f\"{type(x)}\")"
   ]
  },
  {
   "cell_type": "markdown",
   "metadata": {},
   "source": [
    "Değişten yapısı belirtmeden tanımlama yapılabilinmektedir. Python verilen değere göre otomatik atama yapmaktadır. Gerekli durumlarda veri yapıları arasında değişikilk yapılabilir. Örneğin int(), str() gibi yapılar kullanılarak değişim gerçekleştirilebilir.\n",
    "\n",
    "type() fonksiyonu ise oluşturulan değişkenin sınıfı/türünün çıktısını terminale basar."
   ]
  },
  {
   "cell_type": "markdown",
   "metadata": {},
   "source": [
    "## Virtual Environment & Package Management (in Conda)"
   ]
  },
  {
   "cell_type": "markdown",
   "metadata": {},
   "source": [
    "### Sanal ortamların listelenmesi için\n",
    "conda env list\n",
    "\n",
    "### Sanal ortam oluşturmak için\n",
    "conda create -n myenv\n",
    "\n",
    "### Sanal ortamı aktive etmek için\n",
    "conda activate myenv\n",
    "\n",
    "### Sanal ortamı deaktif etmek için\n",
    "conda deactivate\n",
    "\n",
    "### Sanal ortamda bulunan kütüphane/paketleri kontrol etmek için\n",
    "conda list\n",
    "\n",
    "### Sanal ortamda kütüphane/paket yüklemek için\n",
    "conda isntall numpy\n",
    "\n",
    "### Sanal ortamda çoklu kütüphane/paket yüklemek için\n",
    "conda install numpy scipy pandas\n",
    "\n",
    "### Sanal ortamda belirli bir kütüphane/paket güncellemek için\n",
    "conda upgrade numpy\n",
    "\n",
    "### Sanal ortamda bulunan tüm kütüphaneleri/paketleri güncellemek için\n",
    "conda upgrade -all\n",
    "\n",
    "### Sanal ortamda kütüphane/paket kaldırmak için\n",
    "conda remove *package_name*\n",
    "\n",
    "### Sanal ortamda **Conda** kullanılarak belirli bir versiyona göre kütüphane/paket yüklemek için\n",
    "conda install numoy=1.20.1\n",
    "\n",
    "### Sanal ortamda **pip** kullanılarak belirli bir verisyona göre kütüphane/paket yüklemek için\n",
    "pip isntall numpy==1.20.1\n",
    "\n",
    "### Sanal ortamda bulunan bağımlılıkalr ve kütüphane/paketlerin toplu listesini çıkartmak için\n",
    "conda env export > environment.yaml\n",
    "\n",
    "\n",
    "\n"
   ]
  },
  {
   "cell_type": "markdown",
   "metadata": {},
   "source": [
    "## Veri Yapıları (Data Structures)"
   ]
  },
  {
   "cell_type": "code",
   "execution_count": 14,
   "metadata": {},
   "outputs": [
    {
     "name": "stdout",
     "output_type": "stream",
     "text": [
      "<class 'int'>\n",
      "10\n",
      "<class 'float'>\n",
      "10.1423\n",
      "<class 'complex'>\n",
      "(5+2j)\n",
      "<class 'str'>\n",
      "Bu bir string\n",
      "<class 'bool'>\n",
      "True\n",
      "<class 'list'>\n",
      "['THYAO', 'KCHOL', 'VAKKO', 'FROTO']\n",
      "<class 'dict'>\n",
      "{'Name': 'Türk Hava Yolları', 'Ticker': 'THYAO', 'Dememe': 'Bu bir string', 'Ahmed Orhan Furkan': 'hhh'}\n",
      "<class 'tuple'>\n",
      "('KLU', 'KTV', 'YMAG')\n",
      "<class 'set'>\n",
      "{'KLU', 'KTV', 'YMAG'}\n"
     ]
    },
    {
     "data": {
      "text/plain": [
       "(None, None)"
      ]
     },
     "execution_count": 14,
     "metadata": {},
     "output_type": "execute_result"
    }
   ],
   "source": [
    "#Integer\n",
    "x = 10\n",
    "print(type(x)), print(x)\n",
    "\n",
    "#Float\n",
    "y = 10.1423\n",
    "print(type(y)), print(y)\n",
    "\n",
    "#Complex\n",
    "xx = 2j + 5\n",
    "print(type(xx)), print(xx)\n",
    "\n",
    "#String\n",
    "c = \"Bu bir string\"\n",
    "print(type(c)), print(c)\n",
    "\n",
    "#Boolean\n",
    "z = True\n",
    "print(type(z)), print(z)\n",
    "\n",
    "#List\n",
    "yy = [\"THYAO\",\"KCHOL\",\"VAKKO\",\"FROTO\"]\n",
    "print(type(yy)), print(yy)\n",
    "\n",
    "#Dictionary\n",
    "d = {\"Name\":\"Türk Hava Yolları\", \"Ticker\":\"THYAO\", \"Dememe\": c, \"Ahmed Orhan Furkan\":\"hhh\"}\n",
    "print(type(d)), print(d)\n",
    "\n",
    "#Tuple\n",
    "t =(\"KLU\",\"KTV\",\"YMAG\")\n",
    "print(type(t)), print(t)\n",
    "\n",
    "#Set\n",
    "s ={\"KLU\",\"KTV\",\"YMAG\"}\n",
    "print(type(s)), print(s)"
   ]
  },
  {
   "cell_type": "markdown",
   "metadata": {},
   "source": [
    "**NOT:** Liste, Tuple, Dictionary ve Set veri yapıları aynı zamanda Python Collections (Arrays) olarak geçmektedir."
   ]
  },
  {
   "cell_type": "markdown",
   "metadata": {},
   "source": [
    "**PEP 8**, Python programlama dili için bir kod yazım stil rehberidir. Açılımı, Python Geliştirme Önerisi 8'dir **(Python Enhancement Proposal 8)**. Bu rehber, Python kodlarının daha okunabilir, anlaşılır ve tutarlı olması için en iyi uygulamaları ve kuralları içerir.\n",
    "\n",
    "Birçok programcı aynı anda bir proje üzerinde çalıştığında veya başkalarının yazdığı kodu okuması gerektiğinde, kodun tutarlı bir stile sahip olması büyük önem taşır. PEP 8, bu tutarlılığı sağlamak ve herkesin daha rahat kod okumasını mümkün kılmak için oluşturulmuştur.\n",
    "\n",
    "https://birhankarahasan.com/pep8-nedir-python-stil-rehberi-yazim-kurallari"
   ]
  },
  {
   "cell_type": "code",
   "execution_count": 19,
   "metadata": {},
   "outputs": [
    {
     "name": "stdout",
     "output_type": "stream",
     "text": [
      "A\n"
     ]
    },
    {
     "data": {
      "text/plain": [
       "False"
      ]
     },
     "execution_count": 19,
     "metadata": {},
     "output_type": "execute_result"
    }
   ],
   "source": [
    "Ticker = \"THYAO\"\n",
    "print(Ticker[3])\n",
    "\n",
    "\"B\" in Ticker"
   ]
  },
  {
   "cell_type": "code",
   "execution_count": 21,
   "metadata": {},
   "outputs": [
    {
     "data": {
      "text/plain": [
       "['__add__',\n",
       " '__class__',\n",
       " '__contains__',\n",
       " '__delattr__',\n",
       " '__dir__',\n",
       " '__doc__',\n",
       " '__eq__',\n",
       " '__format__',\n",
       " '__ge__',\n",
       " '__getattribute__',\n",
       " '__getitem__',\n",
       " '__getnewargs__',\n",
       " '__getstate__',\n",
       " '__gt__',\n",
       " '__hash__',\n",
       " '__init__',\n",
       " '__init_subclass__',\n",
       " '__iter__',\n",
       " '__le__',\n",
       " '__len__',\n",
       " '__lt__',\n",
       " '__mod__',\n",
       " '__mul__',\n",
       " '__ne__',\n",
       " '__new__',\n",
       " '__reduce__',\n",
       " '__reduce_ex__',\n",
       " '__repr__',\n",
       " '__rmod__',\n",
       " '__rmul__',\n",
       " '__setattr__',\n",
       " '__sizeof__',\n",
       " '__str__',\n",
       " '__subclasshook__',\n",
       " 'capitalize',\n",
       " 'casefold',\n",
       " 'center',\n",
       " 'count',\n",
       " 'encode',\n",
       " 'endswith',\n",
       " 'expandtabs',\n",
       " 'find',\n",
       " 'format',\n",
       " 'format_map',\n",
       " 'index',\n",
       " 'isalnum',\n",
       " 'isalpha',\n",
       " 'isascii',\n",
       " 'isdecimal',\n",
       " 'isdigit',\n",
       " 'isidentifier',\n",
       " 'islower',\n",
       " 'isnumeric',\n",
       " 'isprintable',\n",
       " 'isspace',\n",
       " 'istitle',\n",
       " 'isupper',\n",
       " 'join',\n",
       " 'ljust',\n",
       " 'lower',\n",
       " 'lstrip',\n",
       " 'maketrans',\n",
       " 'partition',\n",
       " 'removeprefix',\n",
       " 'removesuffix',\n",
       " 'replace',\n",
       " 'rfind',\n",
       " 'rindex',\n",
       " 'rjust',\n",
       " 'rpartition',\n",
       " 'rsplit',\n",
       " 'rstrip',\n",
       " 'split',\n",
       " 'splitlines',\n",
       " 'startswith',\n",
       " 'strip',\n",
       " 'swapcase',\n",
       " 'title',\n",
       " 'translate',\n",
       " 'upper',\n",
       " 'zfill']"
      ]
     },
     "execution_count": 21,
     "metadata": {},
     "output_type": "execute_result"
    }
   ],
   "source": [
    "# İlgili türle beraber kullanılabilecek metodları listeler\n",
    "dir(str)"
   ]
  },
  {
   "cell_type": "markdown",
   "metadata": {},
   "source": [
    "### Liste (List)\n",
    "\n",
    "- Değiştirlebilir\n",
    "- Sıralıdır. Index işlemleri yapılabilir.\n",
    "- Kapsayıcıdır"
   ]
  },
  {
   "cell_type": "code",
   "execution_count": 29,
   "metadata": {},
   "outputs": [
    {
     "name": "stdout",
     "output_type": "stream",
     "text": [
      "<class 'list'>\n",
      "[1, 2, 3.14, 'ahmed', 'b', 'c', (1, 2, 3), ['a', 'b', 'c'], True]\n",
      "(1, 2, 3)\n",
      "h\n",
      "[1, 2, 3, 4, 5, 6]\n"
     ]
    }
   ],
   "source": [
    "notes = [1,2,3,4,5,6]\n",
    "deneme = [1,2,3.14,\"ahmed\",\"b\",\"c\",(1,2,3),[\"a\",\"b\",\"c\"],True,]\n",
    "\n",
    "print(type(notes))\n",
    "print(deneme)\n",
    "print(deneme[6]) # --> 1,2,3 // (1,2,3) // 123\n",
    "print(deneme[3][1]) # --> [\"a\",\"b\",\"c\"], 3.14 // abc3.14 // [\"a\",\"b\",\"c\"]3.14 // || c // \"c\" //\n",
    "\n",
    "print(notes)"
   ]
  },
  {
   "cell_type": "code",
   "execution_count": 36,
   "metadata": {},
   "outputs": [
    {
     "name": "stdout",
     "output_type": "stream",
     "text": [
      "0\n",
      "[0, 'ali', 'ali', 'ali', 'ali', 'ali', 'ali', 2, 3, 4, 5, 6, 7, 7, 7, 7, 7, 7]\n",
      "0\n",
      "[0, 'ali', 'ali', 'ali', 'ali', 'ali', 'ali', 2, 3, 4, 5, 6, 7, 7, 7, 7, 7, 7]\n",
      "[0, 'ali', 'ali', 'ali', 'ali', 'ali', 'ali', 2, 3, 4, 5, 6, 7, 7, 7, 7, 7, 7, 7]\n",
      "[0, 'ali', 'ali', 'ali', 'ali', 'ali', 'ali', 'ali', 2, 3, 4, 5, 6, 7, 7, 7, 7, 7, 7, 7]\n"
     ]
    }
   ],
   "source": [
    "print(notes[0])\n",
    "print(notes)\n",
    "\n",
    "notes[0] = 0\n",
    "print(notes[0])\n",
    "\n",
    "print(notes)\n",
    "\n",
    "notes.append(7)\n",
    "print(notes)\n",
    "\n",
    "len(notes)\n",
    "\n",
    "# notes.pop(6)\n",
    "# print(notes)\n",
    "\n",
    "notes.insert(1,\"ali\")\n",
    "print(notes)\n"
   ]
  },
  {
   "cell_type": "markdown",
   "metadata": {},
   "source": [
    "### Sözlük (Dictonary)\n",
    "\n",
    "Sözlükler key-value çiftleriyle veri tutma imkanı sağlar.\n",
    "\n",
    "- Değiştirilebilir\n",
    "- Sırasız. (3.7 versiyonu sonrası sıralı özelliği de kazanmıştır)\n",
    "- Kapsayıcı"
   ]
  },
  {
   "cell_type": "code",
   "execution_count": 42,
   "metadata": {},
   "outputs": [
    {
     "name": "stdout",
     "output_type": "stream",
     "text": [
      "Soyad\n",
      "False\n",
      "True\n",
      "İsim\n",
      "dict_keys(['Name', 'Surname'])\n",
      "dict_values(['İsim', 'Soyad'])\n",
      "dict_items([('Name', 'İsim'), ('Surname', 'Soyad')])\n",
      "None\n",
      "{'Name': 'İsim', 'Surname': 'Soyad', 'Cow': 'İnek'}\n",
      "----------\n",
      "None\n",
      "{'Name': 'İsim', 'Surname': 'İnek', 'Cow': 'İnek'}\n",
      "None\n",
      "{'Name': 'İsim', 'Surname': 'İnek', 'Cow': 'İnek', 'Surname1': 'İnek'}\n",
      "None\n",
      "{'Name': 'İsim', 'Surname': 'İnek1', 'Cow': 'İnek', 'Surname1': 'İnek'}\n"
     ]
    }
   ],
   "source": [
    "engtur = {\"Name\": \"İsim\",\n",
    "          \"Surname\": \"Soyad\"}\n",
    "\n",
    "print(engtur[\"Surname\"])\n",
    "\n",
    "print(\"İsim\" in engtur)\n",
    "print(\"Surname\" in engtur)\n",
    "print(engtur.get(\"Name\"))\n",
    "\n",
    "print(engtur.keys())\n",
    "print(engtur.values())\n",
    "print(engtur.items())\n",
    "print(engtur.update({\"Cow\": \"İnek\"}))\n",
    "print(engtur)\n",
    "print(\"----------\")\n",
    "print(engtur.update({\"Surname\": \"İnek\"}))\n",
    "print(engtur)\n",
    "\n",
    "print(engtur.update({\"Surname1\": \"İnek\"}))\n",
    "print(engtur)\n",
    "\n",
    "print(engtur.update({\"Surname\": \"İnek1\"}))\n",
    "print(engtur)"
   ]
  },
  {
   "cell_type": "markdown",
   "metadata": {},
   "source": [
    "### Demet (Tuple)\n",
    "- Değiştirilemez\n",
    "- Sıralı\n",
    "- Kapsayıcıdır"
   ]
  },
  {
   "cell_type": "code",
   "execution_count": 52,
   "metadata": {},
   "outputs": [
    {
     "name": "stdout",
     "output_type": "stream",
     "text": [
      "('a', [1, 2, 3.14, 'ahmed', 'b', 'c', (1, 2, 3), ['a', 'b', 'c'], True])\n",
      "(('a', [1, 2, 3.14, 'ahmed', 'b', 'c', (1, 2, 3), ['a', 'b', 'c'], True]), 1, 2, 3)\n",
      "4\n",
      "b\n"
     ]
    }
   ],
   "source": [
    "demet = (\"a\",deneme)\n",
    "t = (demet, 1,2,3)\n",
    "print(demet)\n",
    "print(t)\n",
    "print(len(t))\n",
    "print(t[0][1][7][1])"
   ]
  },
  {
   "cell_type": "markdown",
   "metadata": {},
   "source": [
    "### Set\n",
    "- Değiştirilebilir\n",
    "- Sırasız ve eşsizdir\n",
    "- Kapsayıcıdır"
   ]
  },
  {
   "cell_type": "code",
   "execution_count": 84,
   "metadata": {},
   "outputs": [
    {
     "data": {
      "text/plain": [
       "False"
      ]
     },
     "execution_count": 84,
     "metadata": {},
     "output_type": "execute_result"
    }
   ],
   "source": [
    "set1 = set([1,2,3,4])\n",
    "set2 = {3,4,5,6}\n",
    "\n",
    "# set1 de olup set2 de olmayanlar.\n",
    "set1.difference(set2)\n",
    "set1 - set2\n",
    "\n",
    "# İki kümede de birbirlerine göre olmayanlar.\n",
    "set1.symmetric_difference(set2)\n",
    "\n",
    "# İki kümenin kesişimi\n",
    "set1.intersection(set2)\n",
    "set1 & set2\n",
    "\n",
    "# İki kümenin birleşimi\n",
    "set1.union(set2)\n",
    "\n",
    "# İki kümenin kesişimi boş mu?\n",
    "set1.isdisjoint(set2)\n",
    "\n",
    "# Bir küme diğer kümenin alt kümesi mi?\n",
    "set1.issubset(set2)\n",
    "\n",
    "#Bir küme diğer kümeyi kapsıyor mu?\n",
    "set1.issuperset(set2)"
   ]
  },
  {
   "cell_type": "markdown",
   "metadata": {},
   "source": [
    "## Fonksiyonlar, Koşullar, Döngüler, Comprehensions\n"
   ]
  },
  {
   "cell_type": "markdown",
   "metadata": {},
   "source": [
    "### Fonksiyonlar (Functions)\n",
    "\n",
    "**Not:** Parametre fonksiyon tanımlanması esnasında ifade edilen değişkenlerdir. Argüman ise bu fonskiyonlar çağırıldığında bu parametre değerlerine girilen değerlerdir."
   ]
  },
  {
   "cell_type": "code",
   "execution_count": 64,
   "metadata": {},
   "outputs": [
    {
     "name": "stdout",
     "output_type": "stream",
     "text": [
      "a\n",
      "Object `print()` not found.\n",
      "a b // RE RA\n",
      "Help on built-in function print in module builtins:\n",
      "\n",
      "print(*args, sep=' ', end='\\n', file=None, flush=False)\n",
      "    Prints the values to a stream, or to sys.stdout by default.\n",
      "\n",
      "    sep\n",
      "      string inserted between values, default a space.\n",
      "    end\n",
      "      string appended after the last value, default a newline.\n",
      "    file\n",
      "      a file-like object (stream); defaults to the current sys.stdout.\n",
      "    flush\n",
      "      whether to forcibly flush the stream.\n",
      "\n"
     ]
    }
   ],
   "source": [
    "print(\"a\")\n",
    "\n",
    "?print()\n",
    "\n",
    "\n",
    "print(\"a\",\"b\", end=\" // \")\n",
    "print(\"RE\",\"RA\",sep=\" \")\n",
    "help(print)"
   ]
  },
  {
   "cell_type": "code",
   "execution_count": null,
   "metadata": {},
   "outputs": [
    {
     "name": "stdout",
     "output_type": "stream",
     "text": [
      "13\n",
      "9\n"
     ]
    }
   ],
   "source": [
    "# Fonksiyon Tanımlama\n",
    "\n",
    "def Furkan(x,y):\n",
    "    print(x+y)\n",
    "\n",
    "def powerOf (arg1, arg2):\n",
    "    print(arg1 ** arg2)\n",
    "\n",
    "\n",
    "Furkan(3)\n",
    "powerOf(3,2)"
   ]
  },
  {
   "cell_type": "code",
   "execution_count": 80,
   "metadata": {},
   "outputs": [
    {
     "name": "stdout",
     "output_type": "stream",
     "text": [
      "-4\n"
     ]
    }
   ],
   "source": [
    "x = 7\n",
    "y = 11\n",
    "\n",
    "def cikarma(a,b):\n",
    "    return a - b\n",
    "\n",
    "yeni =  1 + 5\n",
    "\n",
    "print(cikarma(x,y))\n"
   ]
  },
  {
   "cell_type": "markdown",
   "metadata": {},
   "source": [
    "#### **Docstring**\n",
    "Fonksiyonlarımıza herkesin anlayabileceği, ortak bir dil ile bilgi notu eklemektir."
   ]
  },
  {
   "cell_type": "code",
   "execution_count": 3,
   "metadata": {},
   "outputs": [
    {
     "name": "stdout",
     "output_type": "stream",
     "text": [
      "32\n"
     ]
    },
    {
     "data": {
      "text/plain": [
       "2.0"
      ]
     },
     "execution_count": 3,
     "metadata": {},
     "output_type": "execute_result"
    }
   ],
   "source": [
    "def powerOf (arg1, arg2):\n",
    "    \"\"\"\n",
    "    Power of a number\n",
    "\n",
    "    Parameters\n",
    "    --------------\n",
    "    arg1: int \\n\n",
    "    arg2: int\n",
    "\n",
    "    Returns\n",
    "    --------------\n",
    "    Sonucu toplar hacıı\n",
    "    \"\"\"\n",
    "\n",
    "    print(arg1 ** arg2)\n",
    "\n",
    "powerOf(2,5)\n",
    "\n",
    "def root (num1):\n",
    "    return num1 ** 1/2\n",
    "\n",
    "root(4)"
   ]
  },
  {
   "cell_type": "markdown",
   "metadata": {},
   "source": [
    "### Koşullar (Conditions)"
   ]
  },
  {
   "cell_type": "code",
   "execution_count": null,
   "metadata": {},
   "outputs": [
    {
     "name": "stdout",
     "output_type": "stream",
     "text": [
      "No!\n"
     ]
    }
   ],
   "source": [
    "1 == 1\n",
    "\"A\" in \"THYAO\"\n",
    "\n",
    "x = int(input())\n",
    "\n",
    "if x > 10:\n",
    "    print(\"Yes!\")\n",
    "elif x == 10:\n",
    "    print(\"None\")\n",
    "else:\n",
    "    print(\"No!\")\n"
   ]
  },
  {
   "cell_type": "markdown",
   "metadata": {},
   "source": [
    "### Döngüler (Loops)"
   ]
  },
  {
   "cell_type": "code",
   "execution_count": 83,
   "metadata": {},
   "outputs": [
    {
     "name": "stdout",
     "output_type": "stream",
     "text": [
      "6\n",
      "THYAO.IS\n",
      "Thyao\n",
      "AAPLE.IS\n",
      "Aaple\n",
      "PGSUS.IS\n",
      "Pgsus\n",
      "ASELS.IS\n",
      "Asels\n",
      "DOAS.IS\n",
      "Doas\n",
      "VAKKO.IS\n",
      "Vakko\n"
     ]
    }
   ],
   "source": [
    "stocks = [\"THYAO\", \"AAPLE\", \"PGSUS\", \"ASELS\", \"DOAS\", \"VAKKO\"]\n",
    "\n",
    "print(len(stocks))\n",
    "\n",
    "for stock in stocks:\n",
    "    print(stock+\".IS\")\n",
    "    print(stock.capitalize())\n"
   ]
  },
  {
   "cell_type": "markdown",
   "metadata": {},
   "source": [
    "#### Amaç: String bir ifadenin tek haneli indeksinde bulunan karakterlerin büyük yazılmasını sağlamak.\n",
    "\n",
    "before: deneme\n",
    "\n",
    "after: DeNeMe"
   ]
  },
  {
   "cell_type": "code",
   "execution_count": null,
   "metadata": {},
   "outputs": [
    {
     "name": "stdout",
     "output_type": "stream",
     "text": [
      "dEnEmE"
     ]
    }
   ],
   "source": [
    "def oddCapitalizePrint(string1):\n",
    "    for i in range (len(string1)):\n",
    "        if i % 2 == 0:\n",
    "            print(string1[i], end=\"\")\n",
    "        else:\n",
    "            print(string1[i].upper(), end=\"\")\n",
    "\n",
    "oddCapitalizePrint(input())"
   ]
  },
  {
   "cell_type": "code",
   "execution_count": 11,
   "metadata": {},
   "outputs": [
    {
     "data": {
      "text/plain": [
       "'aLiM'"
      ]
     },
     "execution_count": 11,
     "metadata": {},
     "output_type": "execute_result"
    }
   ],
   "source": [
    "def oddCapitalize(string1):\n",
    "    stringNew = \"\"\n",
    "    for i in range (len(string1)):\n",
    "        if i % 2 == 0:\n",
    "            stringNew += string1[i].lower()\n",
    "        else:\n",
    "            stringNew += string1[i].upper()\n",
    "    return (stringNew)\n",
    "\n",
    "oddCapitalize(input())"
   ]
  },
  {
   "cell_type": "code",
   "execution_count": 40,
   "metadata": {},
   "outputs": [
    {
     "name": "stdout",
     "output_type": "stream",
     "text": [
      "AsKeR\n"
     ]
    }
   ],
   "source": [
    "def alternating(string):\n",
    "    newString = \"\"\n",
    "    for i, letter in enumerate(string):\n",
    "        if i % 2 == 0:\n",
    "            newString += letter.upper()\n",
    "        else:\n",
    "            newString += letter.lower()\n",
    "    return newString\n",
    "        \n",
    "print(alternating(input()))"
   ]
  },
  {
   "cell_type": "code",
   "execution_count": 5,
   "metadata": {},
   "outputs": [
    {
     "name": "stdout",
     "output_type": "stream",
     "text": [
      "120\n",
      "250\n",
      "200\n",
      "-----------------\n",
      "120\n",
      "250\n",
      "200\n",
      "60\n",
      "500\n",
      "-----------------\n",
      "Halen yaşıyorsun!\n",
      "Sağlık seviyen: 10\n",
      "\n",
      "Halen yaşıyorsun!\n",
      "Sağlık seviyen: 9\n",
      "\n",
      "Halen yaşıyorsun!\n",
      "Sağlık seviyen: 8\n",
      "\n",
      "Halen yaşıyorsun!\n",
      "Sağlık seviyen: 7\n",
      "\n",
      "Halen yaşıyorsun!\n",
      "Sağlık seviyen: 6\n",
      "\n",
      "Halen yaşıyorsun!\n",
      "Sağlık seviyen: 5\n",
      "\n",
      "Halen yaşıyorsun!\n",
      "Sağlık seviyen: 4\n",
      "\n",
      "Halen yaşıyorsun!\n",
      "Sağlık seviyen: 3\n",
      "\n",
      "Halen yaşıyorsun!\n",
      "Sağlık seviyen: 2\n",
      "\n",
      "Halen yaşıyorsun!\n",
      "Sağlık seviyen: 1\n",
      "\n",
      "Ne yazık ki öldün!\n"
     ]
    }
   ],
   "source": [
    "pricesOfStocks = [120, 250, 200, 187, 60, 500]\n",
    "\n",
    "# Break\n",
    "for price in pricesOfStocks:\n",
    "    if price == 187:\n",
    "        break\n",
    "    print(price)\n",
    "\n",
    "print(\"-----------------\")\n",
    "\n",
    "# Continue\n",
    "for price in pricesOfStocks:\n",
    "    if price == 187:\n",
    "        continue\n",
    "    print(price)\n",
    "\n",
    "print(\"-----------------\")\n",
    "\n",
    "# While\n",
    "saglik = 10\n",
    "while saglik > 0:\n",
    "    print(\"Halen yaşıyorsun!\")\n",
    "    print(\"Sağlık seviyen: \" + str(saglik) + \"\\n\")\n",
    "    saglik -= 1\n",
    "print(\"Ne yazık ki öldün!\")\n"
   ]
  },
  {
   "cell_type": "code",
   "execution_count": 30,
   "metadata": {},
   "outputs": [
    {
     "name": "stdout",
     "output_type": "stream",
     "text": [
      "Uğurcan\n",
      "Sallai\n",
      "Davinson\n",
      "Abdulkerim\n",
      "Eren\n",
      "Torreira\n",
      "Lemina\n",
      "Yunus\n",
      "İlkay\n",
      "Barış\n",
      "Osimhen\n",
      "Icardi\n",
      "Ahmed\n",
      "Singo\n",
      "Arda\n",
      "Günay\n",
      "Sane\n",
      "Sara\n"
     ]
    }
   ],
   "source": [
    "# Enumerate: Otomatik Counter/Indexer ile for loop\n",
    "\n",
    "players = [\"Uğurcan\",  \"Sallai\", \"Davinson\", \"Abdulkerim\", \"Eren\", \"Torreira\",\"Lemina\", \"Yunus\", \"İlkay\", \"Barış\", \"Osimhen\", \"Icardi\", \"Ahmed\", \"Singo\", \"Arda\", \"Günay\", \"Sane\", \"Sara\"]\n",
    "\n",
    "for player in players:\n",
    "    print(player)"
   ]
  },
  {
   "cell_type": "code",
   "execution_count": 31,
   "metadata": {},
   "outputs": [
    {
     "name": "stdout",
     "output_type": "stream",
     "text": [
      "0 Uğurcan\n",
      "1 Sallai\n",
      "2 Davinson\n",
      "3 Abdulkerim\n",
      "4 Eren\n",
      "5 Torreira\n",
      "6 Lemina\n",
      "7 Yunus\n",
      "8 İlkay\n",
      "9 Barış\n",
      "10 Osimhen\n",
      "11 Icardi\n",
      "12 Ahmed\n",
      "13 Singo\n",
      "14 Arda\n",
      "15 Günay\n",
      "16 Sane\n",
      "17 Sara\n"
     ]
    }
   ],
   "source": [
    "for index, player in enumerate(players):\n",
    "    print(index, player)"
   ]
  },
  {
   "cell_type": "code",
   "execution_count": 29,
   "metadata": {},
   "outputs": [
    {
     "name": "stdout",
     "output_type": "stream",
     "text": [
      "1 Uğurcan\n",
      "2 Sallai\n",
      "3 Davinson\n",
      "4 Abdulkerim\n",
      "5 Eren\n",
      "6 Torreira\n",
      "7 Lemina\n",
      "8 Yunus\n",
      "9 İlkay\n",
      "10 Barış\n",
      "11 Osimhen\n",
      "12 Icardi\n",
      "13 Ahmed\n",
      "14 Singo\n",
      "15 Arda\n",
      "16 Günay\n",
      "17 Sane\n",
      "18 Sara\n"
     ]
    }
   ],
   "source": [
    "for index, player in enumerate(players, 1):\n",
    "    print(index, player)"
   ]
  },
  {
   "cell_type": "code",
   "execution_count": 37,
   "metadata": {},
   "outputs": [
    {
     "name": "stdout",
     "output_type": "stream",
     "text": [
      "['Uğurcan', 'Davinson', 'Eren', 'Lemina', 'İlkay', 'Osimhen', 'Ahmed', 'Arda', 'Sane']\n",
      "['Sallai', 'Abdulkerim', 'Torreira', 'Yunus', 'Barış', 'Icardi', 'Singo', 'Günay', 'Sara']\n",
      "9 9\n",
      "[['Uğurcan', 'Davinson', 'Eren', 'Lemina', 'İlkay', 'Osimhen', 'Ahmed', 'Arda', 'Sane'], ['Sallai', 'Abdulkerim', 'Torreira', 'Yunus', 'Barış', 'Icardi', 'Singo', 'Günay', 'Sara']]\n"
     ]
    }
   ],
   "source": [
    "a = []\n",
    "b = []\n",
    "\n",
    "for index, player in enumerate(players):\n",
    "    if index % 2 == 0:\n",
    "        a.append(player)\n",
    "    else:\n",
    "        b.append(player)\n",
    "newList = [a,b]\n",
    "print(str(a) + \"\\n\" + str(b))\n",
    "print(len(a),len(b))\n",
    "print(newList)"
   ]
  },
  {
   "cell_type": "code",
   "execution_count": 2,
   "metadata": {},
   "outputs": [
    {
     "data": {
      "text/plain": [
       "[('Uğurcan', 'Kale', '29'),\n",
       " ('Davinson', 'Defans', '30'),\n",
       " ('İlkay', 'Orta Saha', '34'),\n",
       " ('Icardi', 'Forvet', '32')]"
      ]
     },
     "execution_count": 2,
     "metadata": {},
     "output_type": "execute_result"
    }
   ],
   "source": [
    "# Zip\n",
    "\n",
    "players = [\"Uğurcan\", \"Davinson\", \"İlkay\", \"Icardi\"]\n",
    "\n",
    "positions = [\"Kale\", \"Defans\", \"Orta Saha\", \"Forvet\"]\n",
    "\n",
    "ages = [\"29\",\"30\", \"34\", \"32\"]\n",
    "\n",
    "list(zip(players, positions, ages))"
   ]
  },
  {
   "cell_type": "code",
   "execution_count": null,
   "metadata": {},
   "outputs": [
    {
     "name": "stdout",
     "output_type": "stream",
     "text": [
      "---MAP---\n",
      "4200.0\n",
      "48000.0\n",
      "34316.4\n",
      "144000.0\n",
      "84000.0\n"
     ]
    },
    {
     "data": {
      "text/plain": [
       "10"
      ]
     },
     "execution_count": 2,
     "metadata": {},
     "output_type": "execute_result"
    }
   ],
   "source": [
    "# Lambda\n",
    "# Geçici bir fonksiyondur. Bellekte yer tutmaz.\n",
    "\n",
    "new_sum = lambda a, b: a + b\n",
    "\n",
    "new_sum(11, 5)\n",
    "\n",
    "# Map\n",
    "\n",
    "salaries = [3500, 40000, 28597, 120000, 70000]\n",
    "\n",
    "def new_salary(x):\n",
    "    return x * 20 / 100 + x\n",
    "\n",
    "for salary in salaries:\n",
    "    print(new_salary(salary))\n",
    "\n",
    "list(map(new_salary, salaries))\n",
    "\n",
    "# Lambda ile Map kullanımı\n",
    "\n",
    "list(map(lambda x: x * 10 / 100 + x, salaries)) \n",
    "\n",
    "# Filter\n",
    "\n",
    "nums = [1, 2, 3, 4, 5, 6, 7, 8, 9, 10]\n",
    "\n",
    "list(filter(lambda x: x % 2 == 0, nums))\n",
    "\n",
    "#  Reduce\n",
    "\n",
    "from functools import reduce\n",
    "\n",
    "num_list = [1, 2, 3, 4]\n",
    "\n",
    "reduce(lambda a, b: a + b,num_list)"
   ]
  },
  {
   "cell_type": "markdown",
   "metadata": {},
   "source": [
    "### Comprehensions"
   ]
  },
  {
   "cell_type": "code",
   "execution_count": null,
   "metadata": {},
   "outputs": [
    {
     "name": "stdout",
     "output_type": "stream",
     "text": [
      "[2000, 4000, 6000, 4400.0, 5500.0]\n"
     ]
    },
    {
     "data": {
      "text/plain": [
       "[2200.0, 4400.0]"
      ]
     },
     "execution_count": 24,
     "metadata": {},
     "output_type": "execute_result"
    }
   ],
   "source": [
    "# List Comprehensions\n",
    "\n",
    "salaries = [1000, 2000, 3000, 4000, 5000]\n",
    "\n",
    "\"\"\"\n",
    "for i, x in enumerate(salaries):\n",
    "    print(i,x)\n",
    "    salaries[i] = x * 10 / 100 + x\n",
    "\n",
    "print(salaries)\n",
    "\"\"\"\n",
    "\n",
    "def salinc(x):\n",
    "    return x * 10 / 100 + x\n",
    "\n",
    "newsal = []\n",
    "\n",
    "for salary in salaries:\n",
    "    if salary > 3000:\n",
    "        newsal.append(salinc(salary))\n",
    "    else:\n",
    "        newsal.append(salary * 2)\n",
    "\n",
    "print(newsal)\n",
    "\n",
    "# If ve Else ile List Comprehensions\n",
    "\n",
    "[salinc(salary * 2) if salary < 3000 else salinc(salary) for salary in salaries]\n",
    "\n",
    "# Sadece If ile List Comprehensions\n",
    "\n",
    "[salinc(salary * 2) for salary in salaries if salary < 3000]\n"
   ]
  },
  {
   "cell_type": "code",
   "execution_count": null,
   "metadata": {},
   "outputs": [
    {
     "data": {
      "text/plain": [
       "{'A': 1, 'B': 4, 'C': 9, 'D': 16}"
      ]
     },
     "execution_count": 28,
     "metadata": {},
     "output_type": "execute_result"
    }
   ],
   "source": [
    "# Dict Comprehensions\n",
    "\n",
    "sozluk = {\"a\": 1,\n",
    "          \"b\": 2, \n",
    "          \"c\": 3, \n",
    "          \"d\": 4,\n",
    "          \"e\": 5,\n",
    "          \"f\": 6,\n",
    "          \"g\": 7 }\n",
    "\n",
    "sozluk.items()\n",
    "\n",
    "{k: v ** 2 for (k, v) in sozluk.items()}\n",
    "\n",
    "{k.upper(): v ** 2 for (k, v) in sozluk.items()}"
   ]
  },
  {
   "cell_type": "code",
   "execution_count": null,
   "metadata": {},
   "outputs": [
    {
     "name": "stdout",
     "output_type": "stream",
     "text": [
      "{'a': 1, 'b': 4, 'c': 3, 'd': 16, 'e': 5, 'f': 36, 'g': 7, 'h': 64}\n"
     ]
    },
    {
     "ename": "",
     "evalue": "",
     "output_type": "error",
     "traceback": [
      "\u001b[1;31mThe Kernel crashed while executing code in the current cell or a previous cell. \n",
      "\u001b[1;31mPlease review the code in the cell(s) to identify a possible cause of the failure. \n",
      "\u001b[1;31mClick <a href='https://aka.ms/vscodeJupyterKernelCrash'>here</a> for more info. \n",
      "\u001b[1;31mView Jupyter <a href='command:jupyter.viewOutput'>log</a> for further details."
     ]
    }
   ],
   "source": [
    "sozluk = {\"a\": 1,\n",
    "          \"b\": 2, \n",
    "          \"c\": 3, \n",
    "          \"d\": 4,\n",
    "          \"e\": 5,\n",
    "          \"f\": 6,\n",
    "          \"g\": 7,\n",
    "          \"h\": 8 }\n",
    "\n",
    "yeni = {k: v ** 2 if v % 2 == 0 else v for (k, v) in sozluk.items()}\n",
    "\n",
    "print(yeni)"
   ]
  }
 ],
 "metadata": {
  "kernelspec": {
   "display_name": "Python 3",
   "language": "python",
   "name": "python3"
  },
  "language_info": {
   "codemirror_mode": {
    "name": "ipython",
    "version": 3
   },
   "file_extension": ".py",
   "mimetype": "text/x-python",
   "name": "python",
   "nbconvert_exporter": "python",
   "pygments_lexer": "ipython3",
   "version": "3.13.2"
  }
 },
 "nbformat": 4,
 "nbformat_minor": 2
}
