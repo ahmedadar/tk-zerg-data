{
 "cells": [
  {
   "cell_type": "code",
   "execution_count": 8,
   "metadata": {},
   "outputs": [
    {
     "data": {
      "application/vnd.plotly.v1+json": {
       "config": {
        "plotlyServerURL": "https://plot.ly"
       },
       "data": [
        {
         "customdata": [
          [
           "Younès Belhanda: 2 gol<br>Nani: 1 gol<br>Yusuf Erdoğan: 1 gol"
          ],
          [
           "Ali Sowe: 3 gol<br>Olimpiu Morutan: 1 gol"
          ],
          [
           "João Figueiredo: 2 gol<br>Jérôme Kemen: 1 gol<br>Dimitrios Pelkas: 2 gol"
          ],
          [
           "Vincent Aboubakar: 2 gol<br>Rachid Ghezzal: 1 gol<br>Ernest Muçi: 2 gol"
          ],
          [
           "Edin Džeko: 4 gol<br>Dušan Tadić: 2 gol<br>Cengiz Ünder: 1 gol"
          ],
          [
           "Mauro Icardi: 3 gol<br>Hakim Ziyech: 1 gol<br>Barış Alper Y.: 2 gol"
          ],
          [
           "Mamadou Fall: 3 gol<br>Nuno da Costa: 1 gol"
          ],
          [
           "Mame Thiam: 2 gol<br>Miguel Cardoso: 1 gol<br>Guélor Kanga: 2 gol"
          ],
          [
           "Oscar Romero: 2 gol<br>Mehmet Umut N.: 1 gol"
          ],
          [
           "Alin Zeqiri: 2 gol<br>Varesanović: 1 gol"
          ],
          [
           "Rey Manaj: 3 gol<br>Max Gradel: 1 gol<br>Mustapha Yatabaré: 1 gol"
          ],
          [
           "Paul Onuachu: 3 gol<br>Trezeguet: 1 gol<br>Anastasios B.: 2 gol"
          ]
         ],
         "domain": {
          "x": [
           0,
           1
          ],
          "y": [
           0,
           1
          ]
         },
         "hole": 0.3,
         "hovertemplate": "<b>%{label}</b><br><br>Toplam Gol: %{value}<br>Oyuncu Detayları:<br>%{customdata[0]}<extra></extra>",
         "labels": [
          "Adana Demirspor",
          "Ankaragücü",
          "Başakşehir",
          "Beşiktaş",
          "Fenerbahçe",
          "Galatasaray",
          "Kasımpaşa",
          "Kayserispor",
          "Pendikspor",
          "Rizespor",
          "Sivasspor",
          "Trabzonspor"
         ],
         "legendgroup": "",
         "name": "",
         "showlegend": true,
         "type": "pie",
         "values": {
          "bdata": "BAQFBQcGBAUDAwUG",
          "dtype": "i1"
         }
        }
       ],
       "layout": {
        "legend": {
         "tracegroupgap": 0
        },
        "template": {
         "data": {
          "bar": [
           {
            "error_x": {
             "color": "#2a3f5f"
            },
            "error_y": {
             "color": "#2a3f5f"
            },
            "marker": {
             "line": {
              "color": "#E5ECF6",
              "width": 0.5
             },
             "pattern": {
              "fillmode": "overlay",
              "size": 10,
              "solidity": 0.2
             }
            },
            "type": "bar"
           }
          ],
          "barpolar": [
           {
            "marker": {
             "line": {
              "color": "#E5ECF6",
              "width": 0.5
             },
             "pattern": {
              "fillmode": "overlay",
              "size": 10,
              "solidity": 0.2
             }
            },
            "type": "barpolar"
           }
          ],
          "carpet": [
           {
            "aaxis": {
             "endlinecolor": "#2a3f5f",
             "gridcolor": "white",
             "linecolor": "white",
             "minorgridcolor": "white",
             "startlinecolor": "#2a3f5f"
            },
            "baxis": {
             "endlinecolor": "#2a3f5f",
             "gridcolor": "white",
             "linecolor": "white",
             "minorgridcolor": "white",
             "startlinecolor": "#2a3f5f"
            },
            "type": "carpet"
           }
          ],
          "choropleth": [
           {
            "colorbar": {
             "outlinewidth": 0,
             "ticks": ""
            },
            "type": "choropleth"
           }
          ],
          "contour": [
           {
            "colorbar": {
             "outlinewidth": 0,
             "ticks": ""
            },
            "colorscale": [
             [
              0,
              "#0d0887"
             ],
             [
              0.1111111111111111,
              "#46039f"
             ],
             [
              0.2222222222222222,
              "#7201a8"
             ],
             [
              0.3333333333333333,
              "#9c179e"
             ],
             [
              0.4444444444444444,
              "#bd3786"
             ],
             [
              0.5555555555555556,
              "#d8576b"
             ],
             [
              0.6666666666666666,
              "#ed7953"
             ],
             [
              0.7777777777777778,
              "#fb9f3a"
             ],
             [
              0.8888888888888888,
              "#fdca26"
             ],
             [
              1,
              "#f0f921"
             ]
            ],
            "type": "contour"
           }
          ],
          "contourcarpet": [
           {
            "colorbar": {
             "outlinewidth": 0,
             "ticks": ""
            },
            "type": "contourcarpet"
           }
          ],
          "heatmap": [
           {
            "colorbar": {
             "outlinewidth": 0,
             "ticks": ""
            },
            "colorscale": [
             [
              0,
              "#0d0887"
             ],
             [
              0.1111111111111111,
              "#46039f"
             ],
             [
              0.2222222222222222,
              "#7201a8"
             ],
             [
              0.3333333333333333,
              "#9c179e"
             ],
             [
              0.4444444444444444,
              "#bd3786"
             ],
             [
              0.5555555555555556,
              "#d8576b"
             ],
             [
              0.6666666666666666,
              "#ed7953"
             ],
             [
              0.7777777777777778,
              "#fb9f3a"
             ],
             [
              0.8888888888888888,
              "#fdca26"
             ],
             [
              1,
              "#f0f921"
             ]
            ],
            "type": "heatmap"
           }
          ],
          "histogram": [
           {
            "marker": {
             "pattern": {
              "fillmode": "overlay",
              "size": 10,
              "solidity": 0.2
             }
            },
            "type": "histogram"
           }
          ],
          "histogram2d": [
           {
            "colorbar": {
             "outlinewidth": 0,
             "ticks": ""
            },
            "colorscale": [
             [
              0,
              "#0d0887"
             ],
             [
              0.1111111111111111,
              "#46039f"
             ],
             [
              0.2222222222222222,
              "#7201a8"
             ],
             [
              0.3333333333333333,
              "#9c179e"
             ],
             [
              0.4444444444444444,
              "#bd3786"
             ],
             [
              0.5555555555555556,
              "#d8576b"
             ],
             [
              0.6666666666666666,
              "#ed7953"
             ],
             [
              0.7777777777777778,
              "#fb9f3a"
             ],
             [
              0.8888888888888888,
              "#fdca26"
             ],
             [
              1,
              "#f0f921"
             ]
            ],
            "type": "histogram2d"
           }
          ],
          "histogram2dcontour": [
           {
            "colorbar": {
             "outlinewidth": 0,
             "ticks": ""
            },
            "colorscale": [
             [
              0,
              "#0d0887"
             ],
             [
              0.1111111111111111,
              "#46039f"
             ],
             [
              0.2222222222222222,
              "#7201a8"
             ],
             [
              0.3333333333333333,
              "#9c179e"
             ],
             [
              0.4444444444444444,
              "#bd3786"
             ],
             [
              0.5555555555555556,
              "#d8576b"
             ],
             [
              0.6666666666666666,
              "#ed7953"
             ],
             [
              0.7777777777777778,
              "#fb9f3a"
             ],
             [
              0.8888888888888888,
              "#fdca26"
             ],
             [
              1,
              "#f0f921"
             ]
            ],
            "type": "histogram2dcontour"
           }
          ],
          "mesh3d": [
           {
            "colorbar": {
             "outlinewidth": 0,
             "ticks": ""
            },
            "type": "mesh3d"
           }
          ],
          "parcoords": [
           {
            "line": {
             "colorbar": {
              "outlinewidth": 0,
              "ticks": ""
             }
            },
            "type": "parcoords"
           }
          ],
          "pie": [
           {
            "automargin": true,
            "type": "pie"
           }
          ],
          "scatter": [
           {
            "fillpattern": {
             "fillmode": "overlay",
             "size": 10,
             "solidity": 0.2
            },
            "type": "scatter"
           }
          ],
          "scatter3d": [
           {
            "line": {
             "colorbar": {
              "outlinewidth": 0,
              "ticks": ""
             }
            },
            "marker": {
             "colorbar": {
              "outlinewidth": 0,
              "ticks": ""
             }
            },
            "type": "scatter3d"
           }
          ],
          "scattercarpet": [
           {
            "marker": {
             "colorbar": {
              "outlinewidth": 0,
              "ticks": ""
             }
            },
            "type": "scattercarpet"
           }
          ],
          "scattergeo": [
           {
            "marker": {
             "colorbar": {
              "outlinewidth": 0,
              "ticks": ""
             }
            },
            "type": "scattergeo"
           }
          ],
          "scattergl": [
           {
            "marker": {
             "colorbar": {
              "outlinewidth": 0,
              "ticks": ""
             }
            },
            "type": "scattergl"
           }
          ],
          "scattermap": [
           {
            "marker": {
             "colorbar": {
              "outlinewidth": 0,
              "ticks": ""
             }
            },
            "type": "scattermap"
           }
          ],
          "scattermapbox": [
           {
            "marker": {
             "colorbar": {
              "outlinewidth": 0,
              "ticks": ""
             }
            },
            "type": "scattermapbox"
           }
          ],
          "scatterpolar": [
           {
            "marker": {
             "colorbar": {
              "outlinewidth": 0,
              "ticks": ""
             }
            },
            "type": "scatterpolar"
           }
          ],
          "scatterpolargl": [
           {
            "marker": {
             "colorbar": {
              "outlinewidth": 0,
              "ticks": ""
             }
            },
            "type": "scatterpolargl"
           }
          ],
          "scatterternary": [
           {
            "marker": {
             "colorbar": {
              "outlinewidth": 0,
              "ticks": ""
             }
            },
            "type": "scatterternary"
           }
          ],
          "surface": [
           {
            "colorbar": {
             "outlinewidth": 0,
             "ticks": ""
            },
            "colorscale": [
             [
              0,
              "#0d0887"
             ],
             [
              0.1111111111111111,
              "#46039f"
             ],
             [
              0.2222222222222222,
              "#7201a8"
             ],
             [
              0.3333333333333333,
              "#9c179e"
             ],
             [
              0.4444444444444444,
              "#bd3786"
             ],
             [
              0.5555555555555556,
              "#d8576b"
             ],
             [
              0.6666666666666666,
              "#ed7953"
             ],
             [
              0.7777777777777778,
              "#fb9f3a"
             ],
             [
              0.8888888888888888,
              "#fdca26"
             ],
             [
              1,
              "#f0f921"
             ]
            ],
            "type": "surface"
           }
          ],
          "table": [
           {
            "cells": {
             "fill": {
              "color": "#EBF0F8"
             },
             "line": {
              "color": "white"
             }
            },
            "header": {
             "fill": {
              "color": "#C8D4E3"
             },
             "line": {
              "color": "white"
             }
            },
            "type": "table"
           }
          ]
         },
         "layout": {
          "annotationdefaults": {
           "arrowcolor": "#2a3f5f",
           "arrowhead": 0,
           "arrowwidth": 1
          },
          "autotypenumbers": "strict",
          "coloraxis": {
           "colorbar": {
            "outlinewidth": 0,
            "ticks": ""
           }
          },
          "colorscale": {
           "diverging": [
            [
             0,
             "#8e0152"
            ],
            [
             0.1,
             "#c51b7d"
            ],
            [
             0.2,
             "#de77ae"
            ],
            [
             0.3,
             "#f1b6da"
            ],
            [
             0.4,
             "#fde0ef"
            ],
            [
             0.5,
             "#f7f7f7"
            ],
            [
             0.6,
             "#e6f5d0"
            ],
            [
             0.7,
             "#b8e186"
            ],
            [
             0.8,
             "#7fbc41"
            ],
            [
             0.9,
             "#4d9221"
            ],
            [
             1,
             "#276419"
            ]
           ],
           "sequential": [
            [
             0,
             "#0d0887"
            ],
            [
             0.1111111111111111,
             "#46039f"
            ],
            [
             0.2222222222222222,
             "#7201a8"
            ],
            [
             0.3333333333333333,
             "#9c179e"
            ],
            [
             0.4444444444444444,
             "#bd3786"
            ],
            [
             0.5555555555555556,
             "#d8576b"
            ],
            [
             0.6666666666666666,
             "#ed7953"
            ],
            [
             0.7777777777777778,
             "#fb9f3a"
            ],
            [
             0.8888888888888888,
             "#fdca26"
            ],
            [
             1,
             "#f0f921"
            ]
           ],
           "sequentialminus": [
            [
             0,
             "#0d0887"
            ],
            [
             0.1111111111111111,
             "#46039f"
            ],
            [
             0.2222222222222222,
             "#7201a8"
            ],
            [
             0.3333333333333333,
             "#9c179e"
            ],
            [
             0.4444444444444444,
             "#bd3786"
            ],
            [
             0.5555555555555556,
             "#d8576b"
            ],
            [
             0.6666666666666666,
             "#ed7953"
            ],
            [
             0.7777777777777778,
             "#fb9f3a"
            ],
            [
             0.8888888888888888,
             "#fdca26"
            ],
            [
             1,
             "#f0f921"
            ]
           ]
          },
          "colorway": [
           "#636efa",
           "#EF553B",
           "#00cc96",
           "#ab63fa",
           "#FFA15A",
           "#19d3f3",
           "#FF6692",
           "#B6E880",
           "#FF97FF",
           "#FECB52"
          ],
          "font": {
           "color": "#2a3f5f"
          },
          "geo": {
           "bgcolor": "white",
           "lakecolor": "white",
           "landcolor": "#E5ECF6",
           "showlakes": true,
           "showland": true,
           "subunitcolor": "white"
          },
          "hoverlabel": {
           "align": "left"
          },
          "hovermode": "closest",
          "mapbox": {
           "style": "light"
          },
          "paper_bgcolor": "white",
          "plot_bgcolor": "#E5ECF6",
          "polar": {
           "angularaxis": {
            "gridcolor": "white",
            "linecolor": "white",
            "ticks": ""
           },
           "bgcolor": "#E5ECF6",
           "radialaxis": {
            "gridcolor": "white",
            "linecolor": "white",
            "ticks": ""
           }
          },
          "scene": {
           "xaxis": {
            "backgroundcolor": "#E5ECF6",
            "gridcolor": "white",
            "gridwidth": 2,
            "linecolor": "white",
            "showbackground": true,
            "ticks": "",
            "zerolinecolor": "white"
           },
           "yaxis": {
            "backgroundcolor": "#E5ECF6",
            "gridcolor": "white",
            "gridwidth": 2,
            "linecolor": "white",
            "showbackground": true,
            "ticks": "",
            "zerolinecolor": "white"
           },
           "zaxis": {
            "backgroundcolor": "#E5ECF6",
            "gridcolor": "white",
            "gridwidth": 2,
            "linecolor": "white",
            "showbackground": true,
            "ticks": "",
            "zerolinecolor": "white"
           }
          },
          "shapedefaults": {
           "line": {
            "color": "#2a3f5f"
           }
          },
          "ternary": {
           "aaxis": {
            "gridcolor": "white",
            "linecolor": "white",
            "ticks": ""
           },
           "baxis": {
            "gridcolor": "white",
            "linecolor": "white",
            "ticks": ""
           },
           "bgcolor": "#E5ECF6",
           "caxis": {
            "gridcolor": "white",
            "linecolor": "white",
            "ticks": ""
           }
          },
          "title": {
           "x": 0.05
          },
          "xaxis": {
           "automargin": true,
           "gridcolor": "white",
           "linecolor": "white",
           "ticks": "",
           "title": {
            "standoff": 15
           },
           "zerolinecolor": "white",
           "zerolinewidth": 2
          },
          "yaxis": {
           "automargin": true,
           "gridcolor": "white",
           "linecolor": "white",
           "ticks": "",
           "title": {
            "standoff": 15
           },
           "zerolinecolor": "white",
           "zerolinewidth": 2
          }
         }
        },
        "title": {
         "text": "Türkiye Süper Ligi - Takım Bazlı Gol Dağılımı (Örnek)"
        }
       }
      }
     },
     "metadata": {},
     "output_type": "display_data"
    },
    {
     "name": "stdout",
     "output_type": "stream",
     "text": [
      "\n",
      "--- Grafik Oluşturuldu ---\n",
      "Kodunuz başarıyla çalıştı. Şimdi interaktif grafiği kontrol edebilirsiniz.\n"
     ]
    }
   ],
   "source": [
    "import pandas as pd\n",
    "import plotly.express as px\n",
    "\n",
    "# ---------------------------------------------------------------------\n",
    "# BÖLÜM 1: VERİ HAZIRLIĞI VE YÜKLEME\n",
    "# ---------------------------------------------------------------------\n",
    "\n",
    "# Excel'den okumak istiyorsanız, bu kısmı kullanın:\n",
    "# try:\n",
    "#     # Dosya adını ve sayfa adını kontrol edin!\n",
    "#     df_goals = pd.read_excel('super_lig_goller.xlsx')\n",
    "# except FileNotFoundError:\n",
    "#     print(\"Hata: Excel dosyası bulunamadı. Kod, içerideki dummy veriyi kullanacak.\")\n",
    "    \n",
    "# Not: Excel dosyası olmadığı varsayımıyla, yukarıdaki büyük dummy veriyi\n",
    "# doğrudan Python listesi olarak oluşturuyoruz.\n",
    "\n",
    "data = [\n",
    "    {'Team': 'Galatasaray', 'Player': 'Mauro Icardi', 'Goals': 3},\n",
    "    {'Team': 'Galatasaray', 'Player': 'Hakim Ziyech', 'Goals': 1},\n",
    "    {'Team': 'Galatasaray', 'Player': 'Barış Alper Y.', 'Goals': 2},\n",
    "    {'Team': 'Fenerbahçe', 'Player': 'Edin Džeko', 'Goals': 4},\n",
    "    {'Team': 'Fenerbahçe', 'Player': 'Dušan Tadić', 'Goals': 2},\n",
    "    {'Team': 'Fenerbahçe', 'Player': 'Cengiz Ünder', 'Goals': 1},\n",
    "    {'Team': 'Beşiktaş', 'Player': 'Vincent Aboubakar', 'Goals': 2},\n",
    "    {'Team': 'Beşiktaş', 'Player': 'Rachid Ghezzal', 'Goals': 1},\n",
    "    {'Team': 'Beşiktaş', 'Player': 'Ernest Muçi', 'Goals': 2},\n",
    "    {'Team': 'Trabzonspor', 'Player': 'Paul Onuachu', 'Goals': 3},\n",
    "    {'Team': 'Trabzonspor', 'Player': 'Trezeguet', 'Goals': 1},\n",
    "    {'Team': 'Trabzonspor', 'Player': 'Anastasios B.', 'Goals': 2},\n",
    "    {'Team': 'Başakşehir', 'Player': 'João Figueiredo', 'Goals': 2},\n",
    "    {'Team': 'Başakşehir', 'Player': 'Jérôme Kemen', 'Goals': 1},\n",
    "    {'Team': 'Başakşehir', 'Player': 'Dimitrios Pelkas', 'Goals': 2},\n",
    "    {'Team': 'Adana Demirspor', 'Player': 'Younès Belhanda', 'Goals': 2},\n",
    "    {'Team': 'Adana Demirspor', 'Player': 'Nani', 'Goals': 1},\n",
    "    {'Team': 'Adana Demirspor', 'Player': 'Yusuf Erdoğan', 'Goals': 1},\n",
    "    {'Team': 'Rizespor', 'Player': 'Alin Zeqiri', 'Goals': 2},\n",
    "    {'Team': 'Rizespor', 'Player': 'Varesanović', 'Goals': 1},\n",
    "    {'Team': 'Ankaragücü', 'Player': 'Ali Sowe', 'Goals': 3},\n",
    "    {'Team': 'Ankaragücü', 'Player': 'Olimpiu Morutan', 'Goals': 1},\n",
    "    {'Team': 'Kayserispor', 'Player': 'Mame Thiam', 'Goals': 2},\n",
    "    {'Team': 'Kayserispor', 'Player': 'Miguel Cardoso', 'Goals': 1},\n",
    "    {'Team': 'Kayserispor', 'Player': 'Guélor Kanga', 'Goals': 2},\n",
    "    {'Team': 'Sivasspor', 'Player': 'Rey Manaj', 'Goals': 3},\n",
    "    {'Team': 'Sivasspor', 'Player': 'Max Gradel', 'Goals': 1},\n",
    "    {'Team': 'Sivasspor', 'Player': 'Mustapha Yatabaré', 'Goals': 1},\n",
    "    {'Team': 'Kasımpaşa', 'Player': 'Mamadou Fall', 'Goals': 3},\n",
    "    {'Team': 'Kasımpaşa', 'Player': 'Nuno da Costa', 'Goals': 1},\n",
    "    {'Team': 'Pendikspor', 'Player': 'Oscar Romero', 'Goals': 2},\n",
    "    {'Team': 'Pendikspor', 'Player': 'Mehmet Umut N.', 'Goals': 1},\n",
    "]\n",
    "df_goals = pd.DataFrame(data)\n",
    "\n",
    "\n",
    "# ---------------------------------------------------------------------\n",
    "# BÖLÜM 2: VERİ İŞLEME VE AGREGASYON\n",
    "# ---------------------------------------------------------------------\n",
    "\n",
    "# 2.1 Pie Grafiği İçin Takım Bazlı Toplam Golleri Hesaplama\n",
    "# 'Team' sütununa göre grupla, 'Goals' sütunundaki değerleri topla.\n",
    "df_total_goals = df_goals.groupby('Team')['Goals'].sum().reset_index()\n",
    "df_total_goals.rename(columns={'Goals': 'Total_Goals'}, inplace=True)\n",
    "# Sonuç: Her takım için tek bir toplam gol değeri içeren yeni DataFrame.\n",
    "\n",
    "\n",
    "# 2.2 İnteraktif Hover Metni Oluşturma Fonksiyonu\n",
    "def create_hover_text(team_name):\n",
    "    \"\"\"\n",
    "    Belirtilen takım adına göre, o takımın tüm oyuncularını ve gollerini\n",
    "    satır satır listeleyen bir metin oluşturur.\n",
    "    \"\"\"\n",
    "    # Ana veri setinden sadece ilgili takımı filtrele\n",
    "    team_data = df_goals[df_goals['Team'] == team_name]\n",
    "    text = \"\"\n",
    "    \n",
    "    # Filtrelenmiş her satır (oyuncu) için bilgileri ekle\n",
    "    for _, row in team_data.iterrows():\n",
    "        # HTML satır atlama (<br>) yerine Python newline (\\n) kullanıyoruz,\n",
    "        # bu sayede hover şablonunda (hovertemplate) düzgün görünecek.\n",
    "        text += f\"{row['Player']}: {row['Goals']} gol\\n\" \n",
    "        \n",
    "    return text.strip() # Baştaki/sondaki boşlukları kaldır\n",
    "\n",
    "\n",
    "# 2.3 Oluşturulan Hover Metnini Ana DataFrame'e Ekleme\n",
    "# Her takım adı için (df_total_goals içindeki), yukarıdaki fonksiyonu çalıştır\n",
    "# ve sonucu 'Hover_Text' adında özel bir sütunda sakla.\n",
    "df_total_goals['Hover_Text'] = df_total_goals['Team'].apply(create_hover_text)\n",
    "\n",
    "df_total_goals['Hover_Text_HTML'] = df_total_goals['Hover_Text'].str.replace('\\n', '<br>')\n",
    "\n",
    "\n",
    "# ---------------------------------------------------------------------\n",
    "# BÖLÜM 3: PLOTLY İLE GÖRSELLEŞTİRME\n",
    "# ---------------------------------------------------------------------\n",
    "\n",
    "# 3.1 Plotly Pie Grafiği Oluşturma\n",
    "fig = px.pie(\n",
    "    df_total_goals,\n",
    "    values='Total_Goals', # Pasta dilimlerinin büyüklüğü (Toplam Gol)\n",
    "    names='Team',        # Dilimlerin etiketleri (Takım Adı)\n",
    "    title='Türkiye Süper Ligi - Takım Bazlı Gol Dağılımı (Örnek)',\n",
    "    hole=0.3             # Donut grafiği yapmak için\n",
    ")\n",
    "\n",
    "# Custom Hover Template Ayarları (DÜZELTİLDİ)\n",
    "fig.update_traces(\n",
    "    # customdata olarak artık HTML etiketli metni kullanıyoruz\n",
    "    customdata=df_total_goals[['Hover_Text_HTML']], \n",
    "    \n",
    "    # hovertemplate içindeki <pre> etiketini kaldırdık.\n",
    "    # customdata[0] içindeki <br> etiketleri alt alta listelemeyi sağlayacak.\n",
    "    hovertemplate=\"<b>%{label}</b><br><br>\" +             # Takım Adı (Kalın)\n",
    "                  \"Toplam Gol: %{value}<br>\" +            # Takımın Toplam Golü\n",
    "                  \"Oyuncu Detayları:<br>\" +\n",
    "                  \"%{customdata[0]}\" +                    # HTML etiketli metni doğrudan ekler\n",
    "                  \"<extra></extra>\"                       \n",
    ")\n",
    "\n",
    "# 3.3 Grafiği Görüntüleme (veya Dosyaya Kaydetme)\n",
    "# Bu komut, kodu çalıştırdığınız ortamda (Jupyter, VS Code vb.) grafiği açar.\n",
    "fig.show()\n",
    "\n",
    "# Eğer bu grafiği Dash veya Streamlit'e aktaracaksanız fig objesini kullanırsınız.\n",
    "# Eğer sadece JSON olarak kaydetmek isterseniz:\n",
    "# fig.write_json(\"super_lig_goals_dashboard.json\")\n",
    "\n",
    "print(\"\\n--- Grafik Oluşturuldu ---\")\n",
    "print(\"Kodunuz başarıyla çalıştı. Şimdi interaktif grafiği kontrol edebilirsiniz.\")"
   ]
  }
 ],
 "metadata": {
  "kernelspec": {
   "display_name": "Python 3",
   "language": "python",
   "name": "python3"
  },
  "language_info": {
   "codemirror_mode": {
    "name": "ipython",
    "version": 3
   },
   "file_extension": ".py",
   "mimetype": "text/x-python",
   "name": "python",
   "nbconvert_exporter": "python",
   "pygments_lexer": "ipython3",
   "version": "3.13.2"
  }
 },
 "nbformat": 4,
 "nbformat_minor": 2
}
